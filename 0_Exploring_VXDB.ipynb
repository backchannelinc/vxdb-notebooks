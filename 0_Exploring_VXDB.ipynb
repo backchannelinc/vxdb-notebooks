{
 "cells": [
  {
   "cell_type": "markdown",
   "metadata": {},
   "source": [
    "# Exploring VXDB\n",
    "\n",
    "Starter notebook for exploring [virus.exchange](https://virus.exchange), which is [VX Underground](https://www.vx-underground.org/)'s malware repository based on [mwdb.cert.pl](https://mwdb.cert.pl)."
   ]
  },
  {
   "cell_type": "markdown",
   "metadata": {},
   "source": [
    "# Getting started\n",
    "\n",
    "Let's start by installing the [`vxdb`](https://github.com/backchannelinc/vxdb) wrapper."
   ]
  },
  {
   "cell_type": "code",
   "execution_count": null,
   "metadata": {},
   "outputs": [],
   "source": [
    "%pip install git+https://github.com/backchannelinc/vxdb"
   ]
  },
  {
   "cell_type": "markdown",
   "metadata": {},
   "source": [
    "We then import the library."
   ]
  },
  {
   "cell_type": "code",
   "execution_count": 4,
   "metadata": {},
   "outputs": [],
   "source": [
    "from vxdb import VXDB"
   ]
  },
  {
   "cell_type": "markdown",
   "metadata": {},
   "source": [
    "Now let's get authenticated. We can do that with the CLI with `vxdb login`, or by using the `login()` method.\n",
    "\n",
    "You could also check if there is an environment variable we could use instead, called `VX_API`, and pass that into the `api_key` argument of the VXDB Class object. But for now, we stick with the `login()` method."
   ]
  },
  {
   "cell_type": "code",
   "execution_count": 6,
   "metadata": {},
   "outputs": [],
   "source": [
    "vx = VXDB()\n",
    "vx.login()"
   ]
  },
  {
   "cell_type": "markdown",
   "metadata": {},
   "source": [
    "We are now logged in! We can confirm that by doing a count of the repository."
   ]
  },
  {
   "cell_type": "code",
   "execution_count": 32,
   "metadata": {},
   "outputs": [
    {
     "data": {
      "text/plain": [
       "10286481"
      ]
     },
     "execution_count": 32,
     "metadata": {},
     "output_type": "execute_result"
    }
   ],
   "source": [
    "vx.count_files()"
   ]
  },
  {
   "cell_type": "markdown",
   "metadata": {},
   "source": [
    "# Putting data into tabular format with `pandas`\n",
    "\n",
    "Many data scientists use [`pandas`](https://pandas.pydata.org/) for manipulating and analyzing data in Python. We will use it for the similar purpose of taking VXDB data and doing something with it."
   ]
  },
  {
   "cell_type": "markdown",
   "metadata": {},
   "source": [
    "First let's install `pandas`."
   ]
  },
  {
   "cell_type": "code",
   "execution_count": null,
   "metadata": {},
   "outputs": [],
   "source": [
    "%pip install pandas"
   ]
  },
  {
   "cell_type": "markdown",
   "metadata": {},
   "source": [
    "And we then import the library. We also import some standard stuff like `json`."
   ]
  },
  {
   "cell_type": "code",
   "execution_count": 95,
   "metadata": {},
   "outputs": [],
   "source": [
    "import pandas as pd\n",
    "import json"
   ]
  },
  {
   "cell_type": "markdown",
   "metadata": {},
   "source": [
    "We need some idea of the data and what it looks like so we know how it should be tabulated by `pandas`."
   ]
  },
  {
   "cell_type": "markdown",
   "metadata": {},
   "source": [
    "Since we are just exploring, let's start looking at some of the most recent files."
   ]
  },
  {
   "cell_type": "code",
   "execution_count": 71,
   "metadata": {},
   "outputs": [
    {
     "data": {
      "text/plain": [
       "'Trojan.Win32.MicroFake.ba-1fc1cd22918ef9b0d19165edb903dc709f1cc84d356e91d3056f681a7b5ca884'"
      ]
     },
     "execution_count": 71,
     "metadata": {},
     "output_type": "execute_result"
    }
   ],
   "source": [
    "recent_files = vx.recent_files()\n",
    "most_recent_file = next(recent_files)\n",
    "most_recent_file.name"
   ]
  },
  {
   "cell_type": "markdown",
   "metadata": {},
   "source": [
    "Soooooooo I kind of what a method to just dump all the available metdata about the file as a Python `dict`."
   ]
  },
  {
   "cell_type": "code",
   "execution_count": 111,
   "metadata": {},
   "outputs": [
    {
     "ename": "TypeError",
     "evalue": "fromisoformat: argument must be str",
     "output_type": "error",
     "traceback": [
      "\u001b[0;31m---------------------------------------------------------------------------\u001b[0m",
      "\u001b[0;31mTypeError\u001b[0m                                 Traceback (most recent call last)",
      "\u001b[1;32m/Users/asdv/Documents/eng/backchannel/vxdb-notebooks/0_Exploring_VXDB.ipynb Cell 19\u001b[0m in \u001b[0;36m<cell line: 19>\u001b[0;34m()\u001b[0m\n\u001b[1;32m      <a href='vscode-notebook-cell:/Users/asdv/Documents/eng/backchannel/vxdb-notebooks/0_Exploring_VXDB.ipynb#ch0000016?line=0'>1</a>\u001b[0m \u001b[39mdef\u001b[39;00m \u001b[39msample_info\u001b[39m(sample: vxdb\u001b[39m.\u001b[39mfile\u001b[39m.\u001b[39mMWDBFile):\n\u001b[1;32m      <a href='vscode-notebook-cell:/Users/asdv/Documents/eng/backchannel/vxdb-notebooks/0_Exploring_VXDB.ipynb#ch0000016?line=1'>2</a>\u001b[0m     \u001b[39mreturn\u001b[39;00m {\n\u001b[1;32m      <a href='vscode-notebook-cell:/Users/asdv/Documents/eng/backchannel/vxdb-notebooks/0_Exploring_VXDB.ipynb#ch0000016?line=2'>3</a>\u001b[0m         \u001b[39m'\u001b[39m\u001b[39mid\u001b[39m\u001b[39m'\u001b[39m: sample\u001b[39m.\u001b[39mid,\n\u001b[1;32m      <a href='vscode-notebook-cell:/Users/asdv/Documents/eng/backchannel/vxdb-notebooks/0_Exploring_VXDB.ipynb#ch0000016?line=3'>4</a>\u001b[0m         \u001b[39m'\u001b[39m\u001b[39mupload_time\u001b[39m\u001b[39m'\u001b[39m: sample\u001b[39m.\u001b[39mupload_time,\n\u001b[0;32m   (...)\u001b[0m\n\u001b[1;32m     <a href='vscode-notebook-cell:/Users/asdv/Documents/eng/backchannel/vxdb-notebooks/0_Exploring_VXDB.ipynb#ch0000016?line=15'>16</a>\u001b[0m         \u001b[39m'\u001b[39m\u001b[39mshares\u001b[39m\u001b[39m'\u001b[39m: sample\u001b[39m.\u001b[39mshares\n\u001b[1;32m     <a href='vscode-notebook-cell:/Users/asdv/Documents/eng/backchannel/vxdb-notebooks/0_Exploring_VXDB.ipynb#ch0000016?line=16'>17</a>\u001b[0m     }\n\u001b[0;32m---> <a href='vscode-notebook-cell:/Users/asdv/Documents/eng/backchannel/vxdb-notebooks/0_Exploring_VXDB.ipynb#ch0000016?line=18'>19</a>\u001b[0m sample_info(most_recent_file)\n",
      "\u001b[1;32m/Users/asdv/Documents/eng/backchannel/vxdb-notebooks/0_Exploring_VXDB.ipynb Cell 19\u001b[0m in \u001b[0;36msample_info\u001b[0;34m(sample)\u001b[0m\n\u001b[1;32m      <a href='vscode-notebook-cell:/Users/asdv/Documents/eng/backchannel/vxdb-notebooks/0_Exploring_VXDB.ipynb#ch0000016?line=0'>1</a>\u001b[0m \u001b[39mdef\u001b[39;00m \u001b[39msample_info\u001b[39m(sample: vxdb\u001b[39m.\u001b[39mfile\u001b[39m.\u001b[39mMWDBFile):\n\u001b[1;32m      <a href='vscode-notebook-cell:/Users/asdv/Documents/eng/backchannel/vxdb-notebooks/0_Exploring_VXDB.ipynb#ch0000016?line=1'>2</a>\u001b[0m     \u001b[39mreturn\u001b[39;00m {\n\u001b[1;32m      <a href='vscode-notebook-cell:/Users/asdv/Documents/eng/backchannel/vxdb-notebooks/0_Exploring_VXDB.ipynb#ch0000016?line=2'>3</a>\u001b[0m         \u001b[39m'\u001b[39m\u001b[39mid\u001b[39m\u001b[39m'\u001b[39m: sample\u001b[39m.\u001b[39mid,\n\u001b[1;32m      <a href='vscode-notebook-cell:/Users/asdv/Documents/eng/backchannel/vxdb-notebooks/0_Exploring_VXDB.ipynb#ch0000016?line=3'>4</a>\u001b[0m         \u001b[39m'\u001b[39m\u001b[39mupload_time\u001b[39m\u001b[39m'\u001b[39m: sample\u001b[39m.\u001b[39mupload_time,\n\u001b[1;32m      <a href='vscode-notebook-cell:/Users/asdv/Documents/eng/backchannel/vxdb-notebooks/0_Exploring_VXDB.ipynb#ch0000016?line=4'>5</a>\u001b[0m         \u001b[39m'\u001b[39m\u001b[39mname\u001b[39m\u001b[39m'\u001b[39m: sample\u001b[39m.\u001b[39mname,\n\u001b[1;32m      <a href='vscode-notebook-cell:/Users/asdv/Documents/eng/backchannel/vxdb-notebooks/0_Exploring_VXDB.ipynb#ch0000016?line=5'>6</a>\u001b[0m         \u001b[39m'\u001b[39m\u001b[39mfile_name\u001b[39m\u001b[39m'\u001b[39m: sample\u001b[39m.\u001b[39mfile_name,\n\u001b[1;32m      <a href='vscode-notebook-cell:/Users/asdv/Documents/eng/backchannel/vxdb-notebooks/0_Exploring_VXDB.ipynb#ch0000016?line=6'>7</a>\u001b[0m         \u001b[39m'\u001b[39m\u001b[39mfile_type\u001b[39m\u001b[39m'\u001b[39m: sample\u001b[39m.\u001b[39mfile_type,\n\u001b[1;32m      <a href='vscode-notebook-cell:/Users/asdv/Documents/eng/backchannel/vxdb-notebooks/0_Exploring_VXDB.ipynb#ch0000016?line=7'>8</a>\u001b[0m         \u001b[39m'\u001b[39m\u001b[39msize\u001b[39m\u001b[39m'\u001b[39m: sample\u001b[39m.\u001b[39msize,\n\u001b[1;32m      <a href='vscode-notebook-cell:/Users/asdv/Documents/eng/backchannel/vxdb-notebooks/0_Exploring_VXDB.ipynb#ch0000016?line=8'>9</a>\u001b[0m         \u001b[39m'\u001b[39m\u001b[39mtype\u001b[39m\u001b[39m'\u001b[39m: sample\u001b[39m.\u001b[39mtype,\n\u001b[1;32m     <a href='vscode-notebook-cell:/Users/asdv/Documents/eng/backchannel/vxdb-notebooks/0_Exploring_VXDB.ipynb#ch0000016?line=9'>10</a>\u001b[0m         \u001b[39m'\u001b[39m\u001b[39mtags\u001b[39m\u001b[39m'\u001b[39m: sample\u001b[39m.\u001b[39mtags,\n\u001b[0;32m---> <a href='vscode-notebook-cell:/Users/asdv/Documents/eng/backchannel/vxdb-notebooks/0_Exploring_VXDB.ipynb#ch0000016?line=10'>11</a>\u001b[0m         \u001b[39m'\u001b[39m\u001b[39manalyses\u001b[39m\u001b[39m'\u001b[39m: [{\u001b[39m'\u001b[39m\u001b[39mid\u001b[39m\u001b[39m'\u001b[39m:analysis\u001b[39m.\u001b[39mid,\u001b[39m'\u001b[39m\u001b[39mlast_update\u001b[39m\u001b[39m'\u001b[39m:analysis\u001b[39m.\u001b[39mlast_update,\u001b[39m'\u001b[39m\u001b[39mstatus\u001b[39m\u001b[39m'\u001b[39m:analysis\u001b[39m.\u001b[39mstatus,\u001b[39m'\u001b[39m\u001b[39mis_running\u001b[39m\u001b[39m'\u001b[39m:analysis\u001b[39m.\u001b[39mis_running,\u001b[39m'\u001b[39m\u001b[39marguments\u001b[39m\u001b[39m'\u001b[39m:analysis\u001b[39m.\u001b[39marguments,\u001b[39m'\u001b[39m\u001b[39mprocessing_in\u001b[39m\u001b[39m'\u001b[39m:analysis\u001b[39m.\u001b[39mprocessing_in} \u001b[39mfor\u001b[39;00m analysis \u001b[39min\u001b[39;00m sample\u001b[39m.\u001b[39manalyses],\n\u001b[1;32m     <a href='vscode-notebook-cell:/Users/asdv/Documents/eng/backchannel/vxdb-notebooks/0_Exploring_VXDB.ipynb#ch0000016?line=11'>12</a>\u001b[0m         \u001b[39m'\u001b[39m\u001b[39mparents\u001b[39m\u001b[39m'\u001b[39m: sample\u001b[39m.\u001b[39mparents,\n\u001b[1;32m     <a href='vscode-notebook-cell:/Users/asdv/Documents/eng/backchannel/vxdb-notebooks/0_Exploring_VXDB.ipynb#ch0000016?line=12'>13</a>\u001b[0m         \u001b[39m'\u001b[39m\u001b[39mchildren\u001b[39m\u001b[39m'\u001b[39m: sample\u001b[39m.\u001b[39mchildren,\n\u001b[1;32m     <a href='vscode-notebook-cell:/Users/asdv/Documents/eng/backchannel/vxdb-notebooks/0_Exploring_VXDB.ipynb#ch0000016?line=13'>14</a>\u001b[0m         \u001b[39m'\u001b[39m\u001b[39mcomments\u001b[39m\u001b[39m'\u001b[39m: sample\u001b[39m.\u001b[39mcomments,\n\u001b[1;32m     <a href='vscode-notebook-cell:/Users/asdv/Documents/eng/backchannel/vxdb-notebooks/0_Exploring_VXDB.ipynb#ch0000016?line=14'>15</a>\u001b[0m         \u001b[39m'\u001b[39m\u001b[39mobject_type\u001b[39m\u001b[39m'\u001b[39m: sample\u001b[39m.\u001b[39mobject_type,\n\u001b[1;32m     <a href='vscode-notebook-cell:/Users/asdv/Documents/eng/backchannel/vxdb-notebooks/0_Exploring_VXDB.ipynb#ch0000016?line=15'>16</a>\u001b[0m         \u001b[39m'\u001b[39m\u001b[39mshares\u001b[39m\u001b[39m'\u001b[39m: sample\u001b[39m.\u001b[39mshares\n\u001b[1;32m     <a href='vscode-notebook-cell:/Users/asdv/Documents/eng/backchannel/vxdb-notebooks/0_Exploring_VXDB.ipynb#ch0000016?line=16'>17</a>\u001b[0m     }\n",
      "\u001b[1;32m/Users/asdv/Documents/eng/backchannel/vxdb-notebooks/0_Exploring_VXDB.ipynb Cell 19\u001b[0m in \u001b[0;36m<listcomp>\u001b[0;34m(.0)\u001b[0m\n\u001b[1;32m      <a href='vscode-notebook-cell:/Users/asdv/Documents/eng/backchannel/vxdb-notebooks/0_Exploring_VXDB.ipynb#ch0000016?line=0'>1</a>\u001b[0m \u001b[39mdef\u001b[39;00m \u001b[39msample_info\u001b[39m(sample: vxdb\u001b[39m.\u001b[39mfile\u001b[39m.\u001b[39mMWDBFile):\n\u001b[1;32m      <a href='vscode-notebook-cell:/Users/asdv/Documents/eng/backchannel/vxdb-notebooks/0_Exploring_VXDB.ipynb#ch0000016?line=1'>2</a>\u001b[0m     \u001b[39mreturn\u001b[39;00m {\n\u001b[1;32m      <a href='vscode-notebook-cell:/Users/asdv/Documents/eng/backchannel/vxdb-notebooks/0_Exploring_VXDB.ipynb#ch0000016?line=2'>3</a>\u001b[0m         \u001b[39m'\u001b[39m\u001b[39mid\u001b[39m\u001b[39m'\u001b[39m: sample\u001b[39m.\u001b[39mid,\n\u001b[1;32m      <a href='vscode-notebook-cell:/Users/asdv/Documents/eng/backchannel/vxdb-notebooks/0_Exploring_VXDB.ipynb#ch0000016?line=3'>4</a>\u001b[0m         \u001b[39m'\u001b[39m\u001b[39mupload_time\u001b[39m\u001b[39m'\u001b[39m: sample\u001b[39m.\u001b[39mupload_time,\n\u001b[1;32m      <a href='vscode-notebook-cell:/Users/asdv/Documents/eng/backchannel/vxdb-notebooks/0_Exploring_VXDB.ipynb#ch0000016?line=4'>5</a>\u001b[0m         \u001b[39m'\u001b[39m\u001b[39mname\u001b[39m\u001b[39m'\u001b[39m: sample\u001b[39m.\u001b[39mname,\n\u001b[1;32m      <a href='vscode-notebook-cell:/Users/asdv/Documents/eng/backchannel/vxdb-notebooks/0_Exploring_VXDB.ipynb#ch0000016?line=5'>6</a>\u001b[0m         \u001b[39m'\u001b[39m\u001b[39mfile_name\u001b[39m\u001b[39m'\u001b[39m: sample\u001b[39m.\u001b[39mfile_name,\n\u001b[1;32m      <a href='vscode-notebook-cell:/Users/asdv/Documents/eng/backchannel/vxdb-notebooks/0_Exploring_VXDB.ipynb#ch0000016?line=6'>7</a>\u001b[0m         \u001b[39m'\u001b[39m\u001b[39mfile_type\u001b[39m\u001b[39m'\u001b[39m: sample\u001b[39m.\u001b[39mfile_type,\n\u001b[1;32m      <a href='vscode-notebook-cell:/Users/asdv/Documents/eng/backchannel/vxdb-notebooks/0_Exploring_VXDB.ipynb#ch0000016?line=7'>8</a>\u001b[0m         \u001b[39m'\u001b[39m\u001b[39msize\u001b[39m\u001b[39m'\u001b[39m: sample\u001b[39m.\u001b[39msize,\n\u001b[1;32m      <a href='vscode-notebook-cell:/Users/asdv/Documents/eng/backchannel/vxdb-notebooks/0_Exploring_VXDB.ipynb#ch0000016?line=8'>9</a>\u001b[0m         \u001b[39m'\u001b[39m\u001b[39mtype\u001b[39m\u001b[39m'\u001b[39m: sample\u001b[39m.\u001b[39mtype,\n\u001b[1;32m     <a href='vscode-notebook-cell:/Users/asdv/Documents/eng/backchannel/vxdb-notebooks/0_Exploring_VXDB.ipynb#ch0000016?line=9'>10</a>\u001b[0m         \u001b[39m'\u001b[39m\u001b[39mtags\u001b[39m\u001b[39m'\u001b[39m: sample\u001b[39m.\u001b[39mtags,\n\u001b[0;32m---> <a href='vscode-notebook-cell:/Users/asdv/Documents/eng/backchannel/vxdb-notebooks/0_Exploring_VXDB.ipynb#ch0000016?line=10'>11</a>\u001b[0m         \u001b[39m'\u001b[39m\u001b[39manalyses\u001b[39m\u001b[39m'\u001b[39m: [{\u001b[39m'\u001b[39m\u001b[39mid\u001b[39m\u001b[39m'\u001b[39m:analysis\u001b[39m.\u001b[39mid,\u001b[39m'\u001b[39m\u001b[39mlast_update\u001b[39m\u001b[39m'\u001b[39m:analysis\u001b[39m.\u001b[39;49mlast_update,\u001b[39m'\u001b[39m\u001b[39mstatus\u001b[39m\u001b[39m'\u001b[39m:analysis\u001b[39m.\u001b[39mstatus,\u001b[39m'\u001b[39m\u001b[39mis_running\u001b[39m\u001b[39m'\u001b[39m:analysis\u001b[39m.\u001b[39mis_running,\u001b[39m'\u001b[39m\u001b[39marguments\u001b[39m\u001b[39m'\u001b[39m:analysis\u001b[39m.\u001b[39marguments,\u001b[39m'\u001b[39m\u001b[39mprocessing_in\u001b[39m\u001b[39m'\u001b[39m:analysis\u001b[39m.\u001b[39mprocessing_in} \u001b[39mfor\u001b[39;00m analysis \u001b[39min\u001b[39;00m sample\u001b[39m.\u001b[39manalyses],\n\u001b[1;32m     <a href='vscode-notebook-cell:/Users/asdv/Documents/eng/backchannel/vxdb-notebooks/0_Exploring_VXDB.ipynb#ch0000016?line=11'>12</a>\u001b[0m         \u001b[39m'\u001b[39m\u001b[39mparents\u001b[39m\u001b[39m'\u001b[39m: sample\u001b[39m.\u001b[39mparents,\n\u001b[1;32m     <a href='vscode-notebook-cell:/Users/asdv/Documents/eng/backchannel/vxdb-notebooks/0_Exploring_VXDB.ipynb#ch0000016?line=12'>13</a>\u001b[0m         \u001b[39m'\u001b[39m\u001b[39mchildren\u001b[39m\u001b[39m'\u001b[39m: sample\u001b[39m.\u001b[39mchildren,\n\u001b[1;32m     <a href='vscode-notebook-cell:/Users/asdv/Documents/eng/backchannel/vxdb-notebooks/0_Exploring_VXDB.ipynb#ch0000016?line=13'>14</a>\u001b[0m         \u001b[39m'\u001b[39m\u001b[39mcomments\u001b[39m\u001b[39m'\u001b[39m: sample\u001b[39m.\u001b[39mcomments,\n\u001b[1;32m     <a href='vscode-notebook-cell:/Users/asdv/Documents/eng/backchannel/vxdb-notebooks/0_Exploring_VXDB.ipynb#ch0000016?line=14'>15</a>\u001b[0m         \u001b[39m'\u001b[39m\u001b[39mobject_type\u001b[39m\u001b[39m'\u001b[39m: sample\u001b[39m.\u001b[39mobject_type,\n\u001b[1;32m     <a href='vscode-notebook-cell:/Users/asdv/Documents/eng/backchannel/vxdb-notebooks/0_Exploring_VXDB.ipynb#ch0000016?line=15'>16</a>\u001b[0m         \u001b[39m'\u001b[39m\u001b[39mshares\u001b[39m\u001b[39m'\u001b[39m: sample\u001b[39m.\u001b[39mshares\n\u001b[1;32m     <a href='vscode-notebook-cell:/Users/asdv/Documents/eng/backchannel/vxdb-notebooks/0_Exploring_VXDB.ipynb#ch0000016?line=16'>17</a>\u001b[0m     }\n",
      "File \u001b[0;32m/opt/homebrew/lib/python3.9/site-packages/vxdb/karton.py:14\u001b[0m, in \u001b[0;36mMWDBKartonAnalysis.last_update\u001b[0;34m(self)\u001b[0m\n\u001b[1;32m     12\u001b[0m \u001b[39m@property\u001b[39m\n\u001b[1;32m     13\u001b[0m \u001b[39mdef\u001b[39;00m \u001b[39mlast_update\u001b[39m(\u001b[39mself\u001b[39m) \u001b[39m-\u001b[39m\u001b[39m>\u001b[39m datetime\u001b[39m.\u001b[39mdatetime:\n\u001b[0;32m---> 14\u001b[0m     \u001b[39mreturn\u001b[39;00m datetime\u001b[39m.\u001b[39;49mdatetime\u001b[39m.\u001b[39;49mfromisoformat(\u001b[39mself\u001b[39;49m\u001b[39m.\u001b[39;49mdata[\u001b[39m\"\u001b[39;49m\u001b[39mlast_update\u001b[39;49m\u001b[39m\"\u001b[39;49m])\n",
      "\u001b[0;31mTypeError\u001b[0m: fromisoformat: argument must be str"
     ]
    }
   ],
   "source": [
    "def sample_info(sample: vxdb.file.MWDBFile):\n",
    "    return {\n",
    "        'id': sample.id,\n",
    "        'upload_time': sample.upload_time,\n",
    "        'name': sample.name,\n",
    "        'file_name': sample.file_name,\n",
    "        'file_type': sample.file_type,\n",
    "        'size': sample.size,\n",
    "        'type': sample.type,\n",
    "        'tags': sample.tags,\n",
    "        'analyses': [{'id':analysis.id,'status':analysis.status,'is_running':analysis.is_running,'arguments':analysis.arguments,'processing_in':analysis.processing_in} for analysis in sample.analyses],\n",
    "        # NOTE: couldn't add analysis.last_update because of some stupid error in mwdb: \"TypeError: fromisoformat: argument must be str\"\n",
    "        'parents': sample.parents,\n",
    "        'children': sample.children,\n",
    "        'comments': sample.comments,\n",
    "        'object_type': sample.object_type,\n",
    "        'shares': sample.shares\n",
    "    }\n",
    "\n",
    "sample_info(most_recent_file)"
   ]
  },
  {
   "cell_type": "code",
   "execution_count": 102,
   "metadata": {},
   "outputs": [
    {
     "data": {
      "text/plain": [
       "'a0e63a4b-926a-4e4f-95ad-082fd4f797d4'"
      ]
     },
     "execution_count": 102,
     "metadata": {},
     "output_type": "execute_result"
    }
   ],
   "source": [
    "sample_info(most_recent_file)['analyses'][0].id"
   ]
  },
  {
   "cell_type": "code",
   "execution_count": null,
   "metadata": {},
   "outputs": [],
   "source": []
  }
 ],
 "metadata": {
  "kernelspec": {
   "display_name": "Python 3.9.13 64-bit",
   "language": "python",
   "name": "python3"
  },
  "language_info": {
   "codemirror_mode": {
    "name": "ipython",
    "version": 3
   },
   "file_extension": ".py",
   "mimetype": "text/x-python",
   "name": "python",
   "nbconvert_exporter": "python",
   "pygments_lexer": "ipython3",
   "version": "3.9.13"
  },
  "orig_nbformat": 4,
  "vscode": {
   "interpreter": {
    "hash": "b0fa6594d8f4cbf19f97940f81e996739fb7646882a419484c72d19e05852a7e"
   }
  }
 },
 "nbformat": 4,
 "nbformat_minor": 2
}
